{
 "cells": [
  {
   "cell_type": "code",
   "execution_count": 4,
   "id": "397608e9",
   "metadata": {},
   "outputs": [],
   "source": [
    "import json\n",
    "from braket.aws import AwsDevice\n",
    "from braket.ocean_plugin import BraketSampler, BraketDWaveSampler\n",
    "\n",
    "import numpy as np\n",
    "import scipy.io\n",
    "import matplotlib.pyplot as plt\n",
    "import math\n",
    "import time\n",
    "import os\n",
    "from os.path import join\n",
    "\n",
    "import boto3\n",
    "import io\n",
    "import sys\n",
    "\n",
    "from dwave.system.composites import EmbeddingComposite, FixedEmbeddingComposite"
   ]
  },
  {
   "cell_type": "markdown",
   "id": "c0766569",
   "metadata": {},
   "source": [
    "**Note**: Enter the S3 bucket and device below."
   ]
  },
  {
   "cell_type": "code",
   "execution_count": 5,
   "id": "e156b0f3",
   "metadata": {},
   "outputs": [],
   "source": [
    "# Enter the S3 bucket you created during onboarding in the code below\n",
    "my_bucket = \"amazon-braket-wugroup-us-east-1\" # the name of the bucket\n",
    "my_prefix = \"jiaqileng/qubo\" # the name of the folder in the bucket\n",
    "s3_folder = (my_bucket, my_prefix)\n",
    "client = boto3.client('s3')"
   ]
  },
  {
   "cell_type": "code",
   "execution_count": 6,
   "id": "138e9d37",
   "metadata": {
    "scrolled": true
   },
   "outputs": [
    {
     "name": "stdout",
     "output_type": "stream",
     "text": [
      "Device: Device('name': Advantage_system6.1, 'arn': arn:aws:braket:us-west-2::device/qpu/d-wave/Advantage_system6)\n"
     ]
    }
   ],
   "source": [
    "# session and device\n",
    "#device_name = \"arn:aws:braket:::device/qpu/d-wave/Advantage_system4\"\n",
    "device_name = \"arn:aws:braket:us-west-2::device/qpu/d-wave/Advantage_system6\"\n",
    "device = AwsDevice(device_name)\n",
    "print('Device:', device)"
   ]
  },
  {
   "cell_type": "markdown",
   "id": "e01b37d1",
   "metadata": {},
   "source": [
    "# Problem Setting: Quadratic Programming\n",
    "\n",
    "We consider the following quadratic programming (QP) problem: $$\\min \\frac{1}{2} x^T Q x + b^Tx,$$\n",
    "where the variable $x$ is restricted to the unit square $\\{-1 \\le x_j \\le 1\\}$, and subject to the equality constraint $Q_c x = b_c$.\n",
    "\n",
    "When $Q$ is indefinite (i.e., it has negative eigenvalues), this problem is non-convex.\n",
    "\n",
    "### Quantum algorithms for QP problems\n",
    "\n",
    "We have two quantum algorithms available for use: (1) the standard Quantum Adiabatic Algorithm (QAA); (2) Quantum Hamiltonian Descent (QHD). \n",
    "\n",
    "### Anneal schedules in QAA & QHD\n",
    "\n",
    "On D-Wave, the anneal schedule can be set via user-specified solver parameters. We use the following two anneal schedules for quantum algorithms: \n",
    "1. **schedule A**: the default anneal schedule on D-Wave: \"[[0,0],[20,1]\"\n",
    "2. **schedule B**: a prolonged anneal schedule with anneal time T = 800 and two quenches \"[[0,0],[400, 0.3],[640, 0.6],[800,1]]\".This is the schedule for QHD only. \n",
    "\n"
   ]
  },
  {
   "cell_type": "code",
   "execution_count": 7,
   "id": "0d891c44-c465-4ef8-a38c-c986599f1e1b",
   "metadata": {
    "jupyter": {
     "outputs_hidden": false,
     "source_hidden": false
    },
    "nteract": {
     "transient": {
      "deleting": false
     }
    }
   },
   "outputs": [],
   "source": [
    "# import data directory\n",
    "sys.path.insert(1, '../../../')\n",
    "from config import * \n",
    "\n",
    "# Benchmark information\n",
    "dimension = 75\n",
    "sparsity = 5\n",
    "benchmark_name = f\"QP-{dimension}d-{sparsity}s\"\n",
    "benchmark_dir = join(DATA_DIR_QP, benchmark_name)\n",
    "num_instances = 50"
   ]
  },
  {
   "cell_type": "code",
   "execution_count": 8,
   "id": "c288c07e",
   "metadata": {},
   "outputs": [],
   "source": [
    "def list_to_vec(sample_list, P):\n",
    "    # sample_list = a sample from the response of the D-Wave sampler\n",
    "    # P = the full precision matrix for d-dim vector\n",
    "    list_len = len(sample_list)\n",
    "    binary_vec = np.empty((list_len))\n",
    "    for k in np.arange(list_len):\n",
    "        binary_vec[k] = sample_list['%s'%k]\n",
    "        \n",
    "    return P @ binary_vec\n",
    "\n",
    "def get_qubo(Q, b, Q_c, b_c, H, sigma):\n",
    "    # We assume all continuous variables are between 0 and 1.\n",
    "    \n",
    "    Q_qhd = H.T @ (Q / 2 + sigma * Q_c.T @ Q_c) @ H\n",
    "    R_qhd = (b - 2 * sigma * b_c.T @ Q_c) @ H\n",
    "\n",
    "    # Build QUBO dict\n",
    "    QM = dict()\n",
    "    for i in range(len(H[0])):\n",
    "        if (np.abs(Q_qhd[i,i] + R_qhd[i]) > 0):\n",
    "            QM[str(i),str(i)] = Q_qhd[i,i] + R_qhd[i]\n",
    "        for j in np.arange(i+1, len(H[0])):\n",
    "            if (np.abs(Q_qhd[i,j]) > 0):\n",
    "                QM[str(i),str(j)] = 2 * Q_qhd[i,j]\n",
    "\n",
    "    # maximum strength\n",
    "    max_interaction_qhd = np.max(np.abs(np.array(list(QM.values()))))\n",
    "    \n",
    "    return QM, max_interaction_qhd\n",
    "\n",
    "def get_delay_list(Q_c, dimension, resolution, embedding):\n",
    "    var_equality_constraint = []\n",
    "    for k in range(len(Q_c)):\n",
    "        for j in range(dimension):\n",
    "            if Q_c[k][j] != 0:\n",
    "                var_equality_constraint.append(j)\n",
    "    var_equality_constraint = np.unique(var_equality_constraint)\n",
    "\n",
    "    qubit_list = []\n",
    "    for var in var_equality_constraint:\n",
    "        var_to_qbt = np.arange(var*resolution, (var+1)*resolution)\n",
    "        qubit_list.append(var_to_qbt)\n",
    "    qubit_list = np.unique(qubit_list)\n",
    "\n",
    "    delay_list = []\n",
    "    for qubit in qubit_list:\n",
    "        physical_qbt = embedding[str(qubit)]\n",
    "        for j in physical_qbt:\n",
    "            delay_list.append(j)\n",
    "    return delay_list"
   ]
  },
  {
   "cell_type": "code",
   "execution_count": 12,
   "id": "61328495",
   "metadata": {
    "scrolled": false
   },
   "outputs": [
    {
     "name": "stdout",
     "output_type": "stream",
     "text": [
      "Device: Device('name': Advantage_system6.1, 'arn': arn:aws:braket:us-west-2::device/qpu/d-wave/Advantage_system6)\n",
      "Run standard QAA (Radix-2) on instance No. 0 from QP-75d-5s.\n"
     ]
    },
    {
     "ename": "AttributeError",
     "evalue": "'AwsDevice' object has no attribute 'aws_session'",
     "output_type": "error",
     "traceback": [
      "\u001b[0;31m---------------------------------------------------------------------------\u001b[0m",
      "\u001b[0;31mAttributeError\u001b[0m                            Traceback (most recent call last)",
      "\u001b[0;32m/var/folders/5s/dkknlv856jz7y3hcb_13f9z00000gn/T/ipykernel_13892/1117642320.py\u001b[0m in \u001b[0;36m<module>\u001b[0;34m\u001b[0m\n\u001b[1;32m     69\u001b[0m         \u001b[0mprint\u001b[0m\u001b[0;34m(\u001b[0m\u001b[0;34mf\"Minor embedding saved.\"\u001b[0m\u001b[0;34m)\u001b[0m\u001b[0;34m\u001b[0m\u001b[0;34m\u001b[0m\u001b[0m\n\u001b[1;32m     70\u001b[0m     \u001b[0;32melse\u001b[0m\u001b[0;34m:\u001b[0m\u001b[0;34m\u001b[0m\u001b[0;34m\u001b[0m\u001b[0m\n\u001b[0;32m---> 71\u001b[0;31m         \u001b[0mqpu\u001b[0m \u001b[0;34m=\u001b[0m \u001b[0mBraketDWaveSampler\u001b[0m\u001b[0;34m(\u001b[0m\u001b[0ms3_folder\u001b[0m\u001b[0;34m,\u001b[0m\u001b[0mdevice_name\u001b[0m\u001b[0;34m)\u001b[0m\u001b[0;34m\u001b[0m\u001b[0;34m\u001b[0m\u001b[0m\n\u001b[0m\u001b[1;32m     72\u001b[0m         \u001b[0msampler\u001b[0m \u001b[0;34m=\u001b[0m \u001b[0mFixedEmbeddingComposite\u001b[0m\u001b[0;34m(\u001b[0m\u001b[0mqpu\u001b[0m\u001b[0;34m,\u001b[0m \u001b[0membedding\u001b[0m\u001b[0;34m)\u001b[0m\u001b[0;34m\u001b[0m\u001b[0;34m\u001b[0m\u001b[0m\n\u001b[1;32m     73\u001b[0m         response_qaa = sampler.sample_qubo(QM, \n",
      "\u001b[0;32m~/opt/anaconda3/lib/python3.8/site-packages/braket/ocean_plugin/braket_dwave_sampler.py\u001b[0m in \u001b[0;36m__init__\u001b[0;34m(self, s3_destination_folder, device_arn, aws_session, logger)\u001b[0m\n\u001b[1;32m     55\u001b[0m         \u001b[0mlogger\u001b[0m\u001b[0;34m:\u001b[0m \u001b[0mLogger\u001b[0m \u001b[0;34m=\u001b[0m \u001b[0mgetLogger\u001b[0m\u001b[0;34m(\u001b[0m\u001b[0m__name__\u001b[0m\u001b[0;34m)\u001b[0m\u001b[0;34m,\u001b[0m\u001b[0;34m\u001b[0m\u001b[0;34m\u001b[0m\u001b[0m\n\u001b[1;32m     56\u001b[0m     ):\n\u001b[0;32m---> 57\u001b[0;31m         \u001b[0msuper\u001b[0m\u001b[0;34m(\u001b[0m\u001b[0;34m)\u001b[0m\u001b[0;34m.\u001b[0m\u001b[0m__init__\u001b[0m\u001b[0;34m(\u001b[0m\u001b[0ms3_destination_folder\u001b[0m\u001b[0;34m,\u001b[0m \u001b[0mdevice_arn\u001b[0m\u001b[0;34m,\u001b[0m \u001b[0maws_session\u001b[0m\u001b[0;34m,\u001b[0m \u001b[0mlogger\u001b[0m\u001b[0;34m)\u001b[0m\u001b[0;34m\u001b[0m\u001b[0;34m\u001b[0m\u001b[0m\n\u001b[0m\u001b[1;32m     58\u001b[0m \u001b[0;34m\u001b[0m\u001b[0m\n\u001b[1;32m     59\u001b[0m     \u001b[0;34m@\u001b[0m\u001b[0mproperty\u001b[0m\u001b[0;34m\u001b[0m\u001b[0;34m\u001b[0m\u001b[0m\n",
      "\u001b[0;32m~/opt/anaconda3/lib/python3.8/site-packages/braket/ocean_plugin/braket_sampler.py\u001b[0m in \u001b[0;36m__init__\u001b[0;34m(self, s3_destination_folder, device_arn, aws_session, logger)\u001b[0m\n\u001b[1;32m     73\u001b[0m         \u001b[0mself\u001b[0m\u001b[0;34m.\u001b[0m\u001b[0msolver\u001b[0m \u001b[0;34m=\u001b[0m \u001b[0mAwsDevice\u001b[0m\u001b[0;34m(\u001b[0m\u001b[0mdevice_arn\u001b[0m\u001b[0;34m,\u001b[0m \u001b[0maws_session\u001b[0m\u001b[0;34m)\u001b[0m\u001b[0;34m\u001b[0m\u001b[0;34m\u001b[0m\u001b[0m\n\u001b[1;32m     74\u001b[0m         \u001b[0muser_agent\u001b[0m \u001b[0;34m=\u001b[0m \u001b[0;34mf\"BraketOceanPlugin/{__version__}\"\u001b[0m\u001b[0;34m\u001b[0m\u001b[0;34m\u001b[0m\u001b[0m\n\u001b[0;32m---> 75\u001b[0;31m         \u001b[0mself\u001b[0m\u001b[0;34m.\u001b[0m\u001b[0msolver\u001b[0m\u001b[0;34m.\u001b[0m\u001b[0maws_session\u001b[0m\u001b[0;34m.\u001b[0m\u001b[0madd_braket_user_agent\u001b[0m\u001b[0;34m(\u001b[0m\u001b[0muser_agent\u001b[0m\u001b[0;34m)\u001b[0m\u001b[0;34m\u001b[0m\u001b[0;34m\u001b[0m\u001b[0m\n\u001b[0m\u001b[1;32m     76\u001b[0m \u001b[0;34m\u001b[0m\u001b[0m\n\u001b[1;32m     77\u001b[0m     \u001b[0;34m@\u001b[0m\u001b[0mproperty\u001b[0m\u001b[0;34m\u001b[0m\u001b[0;34m\u001b[0m\u001b[0m\n",
      "\u001b[0;31mAttributeError\u001b[0m: 'AwsDevice' object has no attribute 'aws_session'"
     ]
    }
   ],
   "source": [
    "# Quantum Adiabatic Algorithm (QAA)\n",
    "# Use the Radix-2 encoding of real numbers\n",
    "\n",
    "print('Device:', device)\n",
    "\n",
    "# QUBO parameters\n",
    "sigma = 0 # penalty coefficient, set as 100 if equality_constraint != 0\n",
    "resolution = 8\n",
    "p = np.array([2**(-(int(np.log2(resolution))-i+1)) for i in range(int(np.log2(resolution))+1)])\n",
    "p[0] = 2**(-(int(np.log2(resolution))))\n",
    "Id = np.identity(dimension)\n",
    "P = np.kron(Id, p) # Precision vector for Radix-2 encoding\n",
    "\n",
    "# QPU parameters\n",
    "numruns = 1000\n",
    "USE_EXISTING_EMBEDDING = True\n",
    "embedding_filename = join(benchmark_dir, f\"config/advantage6_qaa_rez{resolution}_embedding.json\")\n",
    "if USE_EXISTING_EMBEDDING:\n",
    "    # Load Embedding from json\n",
    "    with open(embedding_filename, 'r', encoding='utf-8') as f:\n",
    "        embedding = json.loads(f.read())\n",
    "    \n",
    "    #js_content = open(embedding_filename)\n",
    "    #embedding = json.loads(js_content)\n",
    "    '''\n",
    "    # Use the following for S3 object\n",
    "    s3object = client.get_object(Bucket=my_bucket, Key=embedding_filename)\n",
    "    js_content = s3object['Body'].read().decode('UTF-8')\n",
    "    embedding = json.loads(js_content)\n",
    "    '''\n",
    "\n",
    "SCHEDULE = \"A\"\n",
    "if SCHEDULE == \"A\":\n",
    "    schedule = [[0,0],[20,1]] # the default anneal schedule\n",
    "elif SCHEDULE == \"B\":\n",
    "    schedule = [[0,0],[400, 0.3],[640, 0.6],[800,1]] # as a comparison to QHD\n",
    "else:\n",
    "    raise ValueError(\"Anneal schedule not recognized.\")\n",
    "\n",
    "\n",
    "for instance in range(num_instances):\n",
    "    print(f\"Run standard QAA (Radix-2) on instance No. {instance} from {benchmark_name}.\")\n",
    "    \n",
    "    # Load instance data from S3\n",
    "    instance_filename = join(benchmark_dir, f\"instance_{instance}/instance_{instance}.npy\")\n",
    "    with open(instance_filename, 'rb') as f:\n",
    "        Q = np.load(f)\n",
    "        b = np.load(f)\n",
    "        Q_c = np.load(f)\n",
    "        b_c = np.load(f)\n",
    "    \n",
    "    # Build QUBO dict\n",
    "    qaa_samples = np.zeros(shape=(numruns, dimension))\n",
    "    QM, max_interaction = get_qubo(Q, b, Q_c, b_c, P, sigma)\n",
    "    chainstrength = 1.1 * max_interaction\n",
    "    \n",
    "    if (USE_EXISTING_EMBEDDING == False) & (instance == 0):\n",
    "        # Generate a new embedding and save it to {benchmark_name}/config\n",
    "        qpu = BraketDWaveSampler(s3_folder,device_name)\n",
    "        sampler = EmbeddingComposite(qpu)\n",
    "        response_qaa = sampler.sample_qubo(QM, \n",
    "                                    chain_strength=chainstrength, \n",
    "                                    num_reads=numruns,\n",
    "                                    anneal_schedule=schedule,\n",
    "                                    return_embedding=True)\n",
    "        embedding = response_qaa.info[\"embedding_context\"][\"embedding\"]\n",
    "        with open(embedding_filename, \"w\") as outfile:\n",
    "            json.dump(embedding, outfile)\n",
    "        print(f\"Minor embedding saved.\")\n",
    "    else: \n",
    "        qpu = BraketDWaveSampler(s3_folder,device_name)\n",
    "        sampler = FixedEmbeddingComposite(qpu, embedding)\n",
    "        response_qaa = sampler.sample_qubo(QM, \n",
    "                                    chain_strength=chainstrength, \n",
    "                                    num_reads=numruns,\n",
    "                                    anneal_schedule=schedule)\n",
    "    \n",
    "    samples_list_qaa = list(response_qaa.samples())\n",
    "    for i in range(numruns):\n",
    "        qaa_samples[i] = list_to_vec(samples_list_qaa[i], P)\n",
    "    \n",
    "    # Save QAA samples\n",
    "    qaa_filename = join(benchmark_dir, f\"instance_{instance}/advantage6_qaa_schedule{SCHEDULE}_rez{resolution}_sample_{instance}.npy\")\n",
    "    with open(qaa_filename, 'wb') as f:\n",
    "        np.save(f, qaa_samples)\n",
    "    print(f\"D-Wave standard QAA (schedule {SCHEDULE}): data saved.\")\n",
    "    \n",
    "    # Finish processing instance \n",
    "    print(f\"Instance No. {instance} from {benchmark_name}: completed.\\n\")"
   ]
  },
  {
   "cell_type": "code",
   "execution_count": 13,
   "id": "25762ca5",
   "metadata": {
    "scrolled": false
   },
   "outputs": [
    {
     "name": "stdout",
     "output_type": "stream",
     "text": [
      "Device: Device('name': Advantage_system6.1, 'arn': arn:aws:braket:us-west-2::device/qpu/d-wave/Advantage_system6)\n",
      "Run QHD on instance No. 0 from QP-75d-5s.\n"
     ]
    },
    {
     "ename": "AttributeError",
     "evalue": "'AwsDevice' object has no attribute 'aws_session'",
     "output_type": "error",
     "traceback": [
      "\u001b[0;31m---------------------------------------------------------------------------\u001b[0m",
      "\u001b[0;31mAttributeError\u001b[0m                            Traceback (most recent call last)",
      "\u001b[0;32m/var/folders/5s/dkknlv856jz7y3hcb_13f9z00000gn/T/ipykernel_13892/258970960.py\u001b[0m in \u001b[0;36m<module>\u001b[0;34m\u001b[0m\n\u001b[1;32m     61\u001b[0m         \u001b[0mprint\u001b[0m\u001b[0;34m(\u001b[0m\u001b[0;34mf\"Minor embedding saved.\"\u001b[0m\u001b[0;34m)\u001b[0m\u001b[0;34m\u001b[0m\u001b[0;34m\u001b[0m\u001b[0m\n\u001b[1;32m     62\u001b[0m     \u001b[0;32melse\u001b[0m\u001b[0;34m:\u001b[0m\u001b[0;34m\u001b[0m\u001b[0;34m\u001b[0m\u001b[0m\n\u001b[0;32m---> 63\u001b[0;31m         \u001b[0mqpu\u001b[0m \u001b[0;34m=\u001b[0m \u001b[0mBraketDWaveSampler\u001b[0m\u001b[0;34m(\u001b[0m\u001b[0ms3_folder\u001b[0m\u001b[0;34m,\u001b[0m\u001b[0mdevice_name\u001b[0m\u001b[0;34m)\u001b[0m\u001b[0;34m\u001b[0m\u001b[0;34m\u001b[0m\u001b[0m\n\u001b[0m\u001b[1;32m     64\u001b[0m         \u001b[0msampler\u001b[0m \u001b[0;34m=\u001b[0m \u001b[0mFixedEmbeddingComposite\u001b[0m\u001b[0;34m(\u001b[0m\u001b[0mqpu\u001b[0m\u001b[0;34m,\u001b[0m \u001b[0membedding\u001b[0m\u001b[0;34m)\u001b[0m\u001b[0;34m\u001b[0m\u001b[0;34m\u001b[0m\u001b[0m\n\u001b[1;32m     65\u001b[0m         response_qhd = sampler.sample_qubo(QM, \n",
      "\u001b[0;32m~/opt/anaconda3/lib/python3.8/site-packages/braket/ocean_plugin/braket_dwave_sampler.py\u001b[0m in \u001b[0;36m__init__\u001b[0;34m(self, s3_destination_folder, device_arn, aws_session, logger)\u001b[0m\n\u001b[1;32m     55\u001b[0m         \u001b[0mlogger\u001b[0m\u001b[0;34m:\u001b[0m \u001b[0mLogger\u001b[0m \u001b[0;34m=\u001b[0m \u001b[0mgetLogger\u001b[0m\u001b[0;34m(\u001b[0m\u001b[0m__name__\u001b[0m\u001b[0;34m)\u001b[0m\u001b[0;34m,\u001b[0m\u001b[0;34m\u001b[0m\u001b[0;34m\u001b[0m\u001b[0m\n\u001b[1;32m     56\u001b[0m     ):\n\u001b[0;32m---> 57\u001b[0;31m         \u001b[0msuper\u001b[0m\u001b[0;34m(\u001b[0m\u001b[0;34m)\u001b[0m\u001b[0;34m.\u001b[0m\u001b[0m__init__\u001b[0m\u001b[0;34m(\u001b[0m\u001b[0ms3_destination_folder\u001b[0m\u001b[0;34m,\u001b[0m \u001b[0mdevice_arn\u001b[0m\u001b[0;34m,\u001b[0m \u001b[0maws_session\u001b[0m\u001b[0;34m,\u001b[0m \u001b[0mlogger\u001b[0m\u001b[0;34m)\u001b[0m\u001b[0;34m\u001b[0m\u001b[0;34m\u001b[0m\u001b[0m\n\u001b[0m\u001b[1;32m     58\u001b[0m \u001b[0;34m\u001b[0m\u001b[0m\n\u001b[1;32m     59\u001b[0m     \u001b[0;34m@\u001b[0m\u001b[0mproperty\u001b[0m\u001b[0;34m\u001b[0m\u001b[0;34m\u001b[0m\u001b[0m\n",
      "\u001b[0;32m~/opt/anaconda3/lib/python3.8/site-packages/braket/ocean_plugin/braket_sampler.py\u001b[0m in \u001b[0;36m__init__\u001b[0;34m(self, s3_destination_folder, device_arn, aws_session, logger)\u001b[0m\n\u001b[1;32m     73\u001b[0m         \u001b[0mself\u001b[0m\u001b[0;34m.\u001b[0m\u001b[0msolver\u001b[0m \u001b[0;34m=\u001b[0m \u001b[0mAwsDevice\u001b[0m\u001b[0;34m(\u001b[0m\u001b[0mdevice_arn\u001b[0m\u001b[0;34m,\u001b[0m \u001b[0maws_session\u001b[0m\u001b[0;34m)\u001b[0m\u001b[0;34m\u001b[0m\u001b[0;34m\u001b[0m\u001b[0m\n\u001b[1;32m     74\u001b[0m         \u001b[0muser_agent\u001b[0m \u001b[0;34m=\u001b[0m \u001b[0;34mf\"BraketOceanPlugin/{__version__}\"\u001b[0m\u001b[0;34m\u001b[0m\u001b[0;34m\u001b[0m\u001b[0m\n\u001b[0;32m---> 75\u001b[0;31m         \u001b[0mself\u001b[0m\u001b[0;34m.\u001b[0m\u001b[0msolver\u001b[0m\u001b[0;34m.\u001b[0m\u001b[0maws_session\u001b[0m\u001b[0;34m.\u001b[0m\u001b[0madd_braket_user_agent\u001b[0m\u001b[0;34m(\u001b[0m\u001b[0muser_agent\u001b[0m\u001b[0;34m)\u001b[0m\u001b[0;34m\u001b[0m\u001b[0;34m\u001b[0m\u001b[0m\n\u001b[0m\u001b[1;32m     76\u001b[0m \u001b[0;34m\u001b[0m\u001b[0m\n\u001b[1;32m     77\u001b[0m     \u001b[0;34m@\u001b[0m\u001b[0mproperty\u001b[0m\u001b[0;34m\u001b[0m\u001b[0;34m\u001b[0m\u001b[0m\n",
      "\u001b[0;31mAttributeError\u001b[0m: 'AwsDevice' object has no attribute 'aws_session'"
     ]
    }
   ],
   "source": [
    "# Quantum Hamiltonian Descent (QHD)\n",
    "# Use the Hamming-weight encoding of real numbers\n",
    "\n",
    "print('Device:', device)\n",
    "\n",
    "# QUBO parameters\n",
    "sigma = 0 # penalty coefficient, set as 100 if equality_constraint != 0\n",
    "resolution = 8\n",
    "h = np.ones(resolution) / resolution\n",
    "Id = np.identity(dimension)\n",
    "H = np.kron(Id, h) # Precision vector for QHD\n",
    "\n",
    "# QPU parameters\n",
    "numruns = 1000\n",
    "USE_EXISTING_EMBEDDING = True\n",
    "embedding_filename = join(benchmark_dir, f\"config/advantage6_qhd_rez{resolution}_embedding.json\")\n",
    "if USE_EXISTING_EMBEDDING:\n",
    "    # Load Embedding from json\n",
    "    with open(embedding_filename, 'r', encoding='utf-8') as f:\n",
    "        embedding = json.loads(f.read())\n",
    "        \n",
    "    '''\n",
    "    # Use the following for S3 object\n",
    "    s3object = client.get_object(Bucket=my_bucket, Key=embedding_filename)\n",
    "    js_content = s3object['Body'].read().decode('UTF-8')\n",
    "    embedding = json.loads(js_content)\n",
    "    '''\n",
    "    \n",
    "schedule = [[0,0],[400, 0.3],[640, 0.6],[800,1]] # schedule B\n",
    "\n",
    "\n",
    "for instance in range(num_instances):\n",
    "    print(f\"Run QHD on instance No. {instance} from {benchmark_name}.\")\n",
    "    \n",
    "    # Load instance data from S3\n",
    "    instance_filename = join(benchmark_dir, f\"instance_{instance}/instance_{instance}.npy\")\n",
    "    with open(instance_filename, 'rb') as f:\n",
    "        Q = np.load(f)\n",
    "        b = np.load(f)\n",
    "        Q_c = np.load(f)\n",
    "        b_c = np.load(f)\n",
    "    \n",
    "    \n",
    "    # Build QUBO dict\n",
    "    qhd_samples = np.zeros(shape=(numruns, dimension))\n",
    "    QM, max_interaction = get_qubo(Q, b, Q_c, b_c, H, sigma)\n",
    "    chainstrength = 1.1 * max_interaction\n",
    "    \n",
    "    if (USE_EXISTING_EMBEDDING == False) & (instance == 0):\n",
    "        # Generate a new embedding and save it to {benchmark_name}/config\n",
    "        qpu = BraketDWaveSampler(s3_folder,device_name)\n",
    "        sampler = EmbeddingComposite(qpu)\n",
    "        response_qhd = sampler.sample_qubo(QM, \n",
    "                                    chain_strength=chainstrength, \n",
    "                                    num_reads=numruns,\n",
    "                                    anneal_schedule=schedule,\n",
    "                                    return_embedding=True)\n",
    "        embedding = response_qhd.info[\"embedding_context\"][\"embedding\"]\n",
    "        with open(embedding_filename, \"w\") as outfile:\n",
    "            json.dump(embedding, outfile)\n",
    "        print(f\"Minor embedding saved.\")\n",
    "    else: \n",
    "        qpu = BraketDWaveSampler(s3_folder,device_name)\n",
    "        sampler = FixedEmbeddingComposite(qpu, embedding)\n",
    "        response_qhd = sampler.sample_qubo(QM, \n",
    "                                    chain_strength=chainstrength, \n",
    "                                    num_reads=numruns,\n",
    "                                    anneal_schedule=schedule)\n",
    "    \n",
    "    samples_list_qhd = list(response_qhd.samples())\n",
    "    for i in range(numruns):\n",
    "        qhd_samples[i] = list_to_vec(samples_list_qhd[i], H)\n",
    "    \n",
    "    # Save QHD samples\n",
    "    qhd_filename = join(benchmark_dir, f\"instance_{instance}/advantage6_qhd_rez{resolution}_sample_{instance}.npy\")\n",
    "    with open(qhd_filename, 'wb') as f:\n",
    "        np.save(f, qhd_samples)\n",
    "    print(f\"D-Wave QHD: data saved.\")\n",
    "    \n",
    "    # Finish processing instance \n",
    "    print(f\"Instance No. {instance} from {benchmark_name}: completed.\\n\")"
   ]
  }
 ],
 "metadata": {
  "kernelspec": {
   "display_name": "Python 3 (ipykernel)",
   "language": "python",
   "name": "python3"
  },
  "language_info": {
   "codemirror_mode": {
    "name": "ipython",
    "version": 3
   },
   "file_extension": ".py",
   "mimetype": "text/x-python",
   "name": "python",
   "nbconvert_exporter": "python",
   "pygments_lexer": "ipython3",
   "version": "3.8.12"
  },
  "nteract": {
   "version": "0.28.0"
  }
 },
 "nbformat": 4,
 "nbformat_minor": 5
}
