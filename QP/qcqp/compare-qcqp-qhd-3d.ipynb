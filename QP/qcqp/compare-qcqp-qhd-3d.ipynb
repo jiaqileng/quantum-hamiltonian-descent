{
 "cells": [
  {
   "cell_type": "code",
   "execution_count": 100,
   "id": "0bc1f64f",
   "metadata": {},
   "outputs": [],
   "source": [
    "import boto3\n",
    "import io\n",
    "import os\n",
    "\n",
    "import numpy as np\n",
    "import pandas as pd\n",
    "import matplotlib.pyplot as plt"
   ]
  },
  {
   "cell_type": "code",
   "execution_count": 101,
   "id": "1d0f7b07",
   "metadata": {},
   "outputs": [],
   "source": [
    "def qp_eval(x, Q, b):\n",
    "    return 0.5 * x @ Q @ x + b @ x"
   ]
  },
  {
   "cell_type": "code",
   "execution_count": 133,
   "id": "e89a9bc9",
   "metadata": {},
   "outputs": [],
   "source": [
    "# Benchmark identifier\n",
    "benchmark_name = f\"QP-5d\"\n",
    "num_instances = 10\n",
    "resolution = 8\n",
    "numruns = 1000\n",
    "T = 1\n",
    "tol = 5e-3\n",
    "\n",
    "# S3 identifier\n",
    "bucket_name = \"amazon-braket-wugroup-us-east-1\""
   ]
  },
  {
   "cell_type": "code",
   "execution_count": 164,
   "id": "b7f5abcc",
   "metadata": {},
   "outputs": [
    {
     "data": {
      "text/plain": [
       "(array([670.,   0.,   0.,   0.,   0.,   0.,   0.,   0.,   0., 330.]),\n",
       " array([-4.36883244, -4.34998618, -4.33113991, -4.31229365, -4.29344738,\n",
       "        -4.27460112, -4.25575485, -4.23690859, -4.21806232, -4.19921606,\n",
       "        -4.18036979]),\n",
       " <BarContainer object of 10 artists>)"
      ]
     },
     "execution_count": 164,
     "metadata": {},
     "output_type": "execute_result"
    },
    {
     "data": {
      "image/png": "[encoded data removed]",
      "text/plain": [
       "<Figure size 432x288 with 1 Axes>"
      ]
     },
     "metadata": {
      "needs_background": "light"
     },
     "output_type": "display_data"
    }
   ],
   "source": [
    "instance = 9\n",
    "\n",
    "benchmark_path = os.path.join(\"/Users/lengjiaqi/QHD_DATA/QP\", benchmark_name)\n",
    "filename = f\"instance_{instance}.npy\"\n",
    "with open(os.path.join(benchmark_path, filename), 'rb') as f:\n",
    "    Q = np.load(f)\n",
    "    b = np.load(f)\n",
    "    Q_c = np.load(f)\n",
    "    b_c = np.load(f)\n",
    "n = len(Q)\n",
    "\n",
    "# Load QCQP data\n",
    "path = f\"/Users/lengjiaqi/QHD_DATA/QP/{benchmark_name}\"\n",
    "sample_filename = f\"qcqp_{instance}.npy\"\n",
    "#sample_filename = f\"sdr_suggest_{instance}.npy\"\n",
    "qcqp_filename = os.path.join(path, sample_filename)\n",
    "qcqp_samples = np.load(qcqp_filename)\n",
    "qcqp_obj = []\n",
    "\n",
    "for k in range(numruns):\n",
    "    x_qcqp = qcqp_samples[k]\n",
    "    qcqp_obj.append(qp_eval(x_qcqp, Q, b))\n",
    "    \n",
    "plt.hist(qcqp_obj)"
   ]
  },
  {
   "cell_type": "code",
   "execution_count": 165,
   "id": "5388c35b",
   "metadata": {},
   "outputs": [
    {
     "data": {
      "text/plain": [
       "-4.3066397670835626"
      ]
     },
     "execution_count": 165,
     "metadata": {},
     "output_type": "execute_result"
    }
   ],
   "source": [
    "np.mean(qcqp_obj)"
   ]
  },
  {
   "cell_type": "code",
   "execution_count": 28,
   "id": "8b0c918a",
   "metadata": {},
   "outputs": [
    {
     "name": "stdout",
     "output_type": "stream",
     "text": [
      "Benchmark: QP-3d, instance 0: finished.\n",
      "Benchmark: QP-3d, instance 1: finished.\n",
      "Benchmark: QP-3d, instance 2: finished.\n",
      "Benchmark: QP-3d, instance 3: finished.\n",
      "Benchmark: QP-3d, instance 4: finished.\n",
      "Benchmark: QP-3d, instance 5: finished.\n",
      "Benchmark: QP-3d, instance 6: finished.\n",
      "Benchmark: QP-3d, instance 7: finished.\n",
      "Benchmark: QP-3d, instance 8: finished.\n",
      "Benchmark: QP-3d, instance 9: finished.\n"
     ]
    }
   ],
   "source": [
    "post_qhd_count = np.zeros(num_instances)\n",
    "dwave_qhd_count = np.zeros(num_instances)\n",
    "qcqp_count = np.zeros(num_instances)\n",
    "\n",
    "post_qhd_mean_obj = np.zeros(num_instances)\n",
    "dwave_qhd_mean_obj = np.zeros(num_instances)\n",
    "qcqp_mean_obj = np.zeros(num_instances)\n",
    "\n",
    "for instance in range(num_instances):\n",
    "    # Load instance data from S3\n",
    "    instance_filename = f\"jiaqileng/qhd/{benchmark_name}/instance_{instance}/instance_{instance}.npy\"\n",
    "    res = boto3.client('s3').get_object(Bucket=bucket_name, Key=instance_filename)\n",
    "    bytes_ = io.BytesIO(res['Body'].read())\n",
    "    Q = np.load(bytes_)\n",
    "    b = np.load(bytes_)\n",
    "    Q_c = np.load(bytes_)\n",
    "    b_c = np.load(bytes_)\n",
    "\n",
    "    # Load Gurobi data (ground truth)\n",
    "    gurobi_filename = f\"jiaqileng/qhd/{benchmark_name}/instance_{instance}/gurobi_solution_{instance}.npy\"\n",
    "    res = boto3.client('s3').get_object(Bucket=bucket_name, Key=gurobi_filename)\n",
    "    bytes_ = io.BytesIO(res['Body'].read())\n",
    "    x_best = np.load(bytes_)\n",
    "    f_best = qp_eval(x_best, Q, b) \n",
    "    \n",
    "    # Load post-QHD data (Advantage6)\n",
    "    post_qhd_filename = f\"jiaqileng/qhd/{benchmark_name}/instance_{instance}/post_advantage6_sim_rez{resolution}_T{T}_sample_{instance}.npy\"\n",
    "    res = boto3.client('s3').get_object(Bucket=bucket_name, Key=post_qhd_filename)\n",
    "    bytes_ = io.BytesIO(res['Body'].read())\n",
    "    post_qhd_samples = np.load(bytes_)\n",
    "    post_qhd_obj = []\n",
    "    \n",
    "    # Load DWave-QHD data (Advantage6)\n",
    "    dwave_qhd_filename = f\"jiaqileng/qhd/{benchmark_name}/instance_{instance}/post_advantage6_qhd_rez{resolution}_T{T}_sample_{instance}.npy\"\n",
    "    res = boto3.client('s3').get_object(Bucket=bucket_name, Key=dwave_qhd_filename)\n",
    "    bytes_ = io.BytesIO(res['Body'].read())\n",
    "    dwave_qhd_samples = np.load(bytes_)\n",
    "    dwave_qhd_obj = []\n",
    "    \n",
    "    # Load QCQP data\n",
    "    path = f\"/Users/lengjiaqi/LocalResearchData/qcqp_suggest/{benchmark_name}\"\n",
    "    sample_filename = f\"qcqp_{instance}.npy\"\n",
    "    #sample_filename = f\"sdr_suggest_{instance}.npy\"\n",
    "    qcqp_filename = os.path.join(path, sample_filename)\n",
    "    qcqp_samples = np.load(qcqp_filename)\n",
    "    qcqp_obj = []\n",
    "    \n",
    "     # compute objective values\n",
    "    for k in range(numruns):\n",
    "        x_post_qhd = post_qhd_samples[k]\n",
    "        post_qhd_obj.append(qp_eval(x_post_qhd, Q, b))\n",
    "        \n",
    "        x_qcqp = qcqp_samples[k]\n",
    "        qcqp_obj.append(qp_eval(x_qcqp, Q, b))\n",
    "    \n",
    "    for j in range(len(dwave_qhd_samples)):\n",
    "        x_dwave_qhd = dwave_qhd_samples[j]\n",
    "        dwave_qhd_obj.append(qp_eval(x_dwave_qhd, Q, b))\n",
    "    \n",
    "    # count success events\n",
    "    # rel_tol = np.abs(f_best*tol)\n",
    "    rel_tol = tol\n",
    "    #best_fval_gurobi[instance] = f_best\n",
    "    post_qhd_count[instance] = np.sum(np.abs(post_qhd_obj - f_best) <= rel_tol)\n",
    "    dwave_qhd_count[instance] = np.sum(np.abs(dwave_qhd_obj - f_best) <= rel_tol)\n",
    "    qcqp_count[instance] = np.sum(np.abs(qcqp_obj - f_best) <= rel_tol)\n",
    "    \n",
    "    # compute mean objective values\n",
    "    post_qhd_mean_obj[instance] = np.mean(post_qhd_obj) - f_best\n",
    "    dwave_qhd_mean_obj[instance] = np.mean(dwave_qhd_obj) - f_best\n",
    "    qcqp_mean_obj[instance] = np.mean(qcqp_obj) - f_best\n",
    "    \n",
    "    print(f\"Benchmark: {benchmark_name}, instance {instance}: finished.\")"
   ]
  },
  {
   "cell_type": "code",
   "execution_count": 30,
   "id": "e770705f",
   "metadata": {},
   "outputs": [
    {
     "data": {
      "text/plain": [
       "array([-7.10542736e-15,  8.88625592e-03,  4.86482103e-02,  0.00000000e+00,\n",
       "        7.10542736e-15,  3.55271368e-15,  1.77635684e-15, -7.10542736e-15,\n",
       "       -3.55271368e-15,  0.00000000e+00])"
      ]
     },
     "execution_count": 30,
     "metadata": {},
     "output_type": "execute_result"
    }
   ],
   "source": [
    "dwave_qhd_mean_obj"
   ]
  },
  {
   "cell_type": "code",
   "execution_count": 32,
   "id": "ebd90b31",
   "metadata": {},
   "outputs": [
    {
     "data": {
      "text/plain": [
       "<matplotlib.legend.Legend at 0x7f7dc8153670>"
      ]
     },
     "execution_count": 32,
     "metadata": {},
     "output_type": "execute_result"
    },
    {
     "data": {
      "image/png": "[encoded data removed]",
      "text/plain": [
       "<Figure size 432x288 with 1 Axes>"
      ]
     },
     "metadata": {
      "needs_background": "light"
     },
     "output_type": "display_data"
    }
   ],
   "source": [
    "plt.plot(qcqp_mean_obj, label='qcqp')\n",
    "plt.plot(dwave_qhd_mean_obj, label='DWave-qhd')\n",
    "plt.plot(post_qhd_mean_obj, label='sim-qhd')\n",
    "plt.yscale('symlog', linthresh=1e-6)\n",
    "plt.legend()"
   ]
  }
 ],
 "metadata": {
  "kernelspec": {
   "display_name": "Python 3 (ipykernel)",
   "language": "python",
   "name": "python3"
  },
  "language_info": {
   "codemirror_mode": {
    "name": "ipython",
    "version": 3
   },
   "file_extension": ".py",
   "mimetype": "text/x-python",
   "name": "python",
   "nbconvert_exporter": "python",
   "pygments_lexer": "ipython3",
   "version": "3.8.12"
  }
 },
 "nbformat": 4,
 "nbformat_minor": 5
}
